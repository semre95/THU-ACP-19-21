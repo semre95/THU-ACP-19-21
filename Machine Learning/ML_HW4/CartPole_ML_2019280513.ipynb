{
 "cells": [
  {
   "cell_type": "code",
   "execution_count": 1,
   "metadata": {},
   "outputs": [],
   "source": [
    "import gym\n",
    "import random\n",
    "import numpy as np\n",
    "import tflearn\n",
    "from tflearn.layers.core import input_data, dropout, fully_connected\n",
    "from tflearn.layers.estimator import regression\n",
    "from statistics import median, mean\n",
    "from collections import Counter\n",
    "\n",
    "LR = 1e-3\n",
    "env = gym.make(\"CartPole-v1\")\n",
    "env.reset()\n",
    "goal_steps = 500\n",
    "score_requirement = 50\n",
    "initial_games = 10000"
   ]
  },
  {
   "cell_type": "code",
   "execution_count": 2,
   "metadata": {},
   "outputs": [],
   "source": [
    "def some_random_games_first():\n",
    "    \n",
    "    for episode in range(5):\n",
    "        env.reset()\n",
    "        # each frame, up to 200\n",
    "        for t in range(200):\n",
    "            \n",
    "            env.render()\n",
    "            \n",
    "            # action can be 0 or 1,left or right\n",
    "            action = env.action_space.sample()\n",
    "            observation, reward, done, info = env.step(action)\n",
    "            if done:\n",
    "                break"
   ]
  },
  {
   "cell_type": "code",
   "execution_count": 3,
   "metadata": {},
   "outputs": [],
   "source": [
    "def initial_population():\n",
    "  \n",
    "    training_data = []\n",
    "    scores = []\n",
    "    accepted_scores = []\n",
    "\n",
    "    for _ in range(initial_games):\n",
    "        score = 0\n",
    "        game_memory = []\n",
    "        prev_observation = []\n",
    "        # for each frame in 200\n",
    "        for _ in range(goal_steps):\n",
    "            # choose random action (0 or 1)\n",
    "            action = random.randrange(0,2)\n",
    "            observation, reward, done, info = env.step(action)\n",
    "            \n",
    "            if len(prev_observation) > 0 :\n",
    "                game_memory.append([prev_observation, action])\n",
    "            prev_observation = observation\n",
    "            score = score + reward\n",
    "            if done: break\n",
    "\n",
    "      \n",
    "        if score >= score_requirement:\n",
    "            accepted_scores.append(score)\n",
    "            for data in game_memory:\n",
    "                # converting to 0 or 1 , For NN layer\n",
    "                if data[1] == 1:\n",
    "                    output = [0,1]\n",
    "                elif data[1] == 0:\n",
    "                    output = [1,0]\n",
    "                    \n",
    "                # save training data\n",
    "                training_data.append([data[0], output])\n",
    "\n",
    "        \n",
    "        env.reset()\n",
    "        scores.append(score)\n",
    "    \n",
    "    training_data_save = np.array(training_data)\n",
    "    np.save('saved.npy',training_data_save)\n",
    "    \n",
    "    print('Average accepted score:',mean(accepted_scores))\n",
    "    print('Median score for accepted scores:',median(accepted_scores))\n",
    "    print(Counter(accepted_scores))\n",
    "    \n",
    "    return training_data"
   ]
  },
  {
   "cell_type": "code",
   "execution_count": 4,
   "metadata": {},
   "outputs": [],
   "source": [
    "def neural_network_model(input_size):\n",
    "\n",
    "    network = input_data(shape=[None, input_size, 1], name='input')\n",
    "\n",
    "    network = fully_connected(network, 128, activation='relu')\n",
    "    network = dropout(network, 0.8)\n",
    "\n",
    "    network = fully_connected(network, 256, activation='relu')\n",
    "    network = dropout(network, 0.8)\n",
    "\n",
    "    network = fully_connected(network, 512, activation='relu')\n",
    "    network = dropout(network, 0.8)\n",
    "\n",
    "    network = fully_connected(network, 256, activation='relu')\n",
    "    network = dropout(network, 0.8)\n",
    "\n",
    "    network = fully_connected(network, 128, activation='relu')\n",
    "    network = dropout(network, 0.8)\n",
    "\n",
    "    network = fully_connected(network, 2, activation='softmax')\n",
    "    network = regression(network, optimizer='adam', learning_rate=LR, loss='categorical_crossentropy', name='targets')\n",
    "    model = tflearn.DNN(network, tensorboard_dir='log')\n",
    "\n",
    "    return model\n"
   ]
  },
  {
   "cell_type": "code",
   "execution_count": 5,
   "metadata": {},
   "outputs": [],
   "source": [
    "def train_model(training_data, model=False):\n",
    "\n",
    "    X = np.array([i[0] for i in training_data]).reshape(-1,len(training_data[0][0]),1)\n",
    "    y = [i[1] for i in training_data]\n",
    "\n",
    "    if not model:\n",
    "        model = neural_network_model(input_size = len(X[0]))\n",
    "    \n",
    "    model.fit({'input': X}, {'targets': y}, n_epoch=5, snapshot_step=500, show_metric=True, run_id='openai_learning')\n",
    "    return model"
   ]
  },
  {
   "cell_type": "code",
   "execution_count": 6,
   "metadata": {},
   "outputs": [
    {
     "name": "stdout",
     "output_type": "stream",
     "text": [
      "Average accepted score: 61.141689373297005\n",
      "Median score for accepted scores: 58.0\n",
      "Counter({51.0: 31, 50.0: 29, 53.0: 26, 54.0: 24, 52.0: 23, 56.0: 22, 58.0: 17, 55.0: 17, 67.0: 13, 60.0: 12, 61.0: 12, 59.0: 11, 63.0: 11, 70.0: 9, 57.0: 9, 64.0: 9, 62.0: 9, 68.0: 9, 73.0: 7, 65.0: 7, 69.0: 6, 79.0: 6, 71.0: 6, 66.0: 6, 80.0: 3, 81.0: 3, 72.0: 3, 85.0: 2, 76.0: 2, 75.0: 2, 82.0: 2, 99.0: 2, 88.0: 2, 78.0: 2, 128.0: 1, 86.0: 1, 96.0: 1, 114.0: 1, 74.0: 1, 122.0: 1, 117.0: 1, 84.0: 1, 92.0: 1, 77.0: 1, 103.0: 1, 91.0: 1, 106.0: 1})\n"
     ]
    }
   ],
   "source": [
    "training_data = initial_population()"
   ]
  },
  {
   "cell_type": "code",
   "execution_count": 7,
   "metadata": {},
   "outputs": [
    {
     "name": "stdout",
     "output_type": "stream",
     "text": [
      "Training Step: 1724  | total loss: \u001b[1m\u001b[32m0.66223\u001b[0m\u001b[0m | time: 4.631s\n",
      "| Adam | epoch: 005 | loss: 0.66223 - acc: 0.6026 -- iter: 22016/22072\n",
      "Training Step: 1725  | total loss: \u001b[1m\u001b[32m0.66317\u001b[0m\u001b[0m | time: 4.642s\n",
      "| Adam | epoch: 005 | loss: 0.66317 - acc: 0.6032 -- iter: 22072/22072\n",
      "--\n"
     ]
    }
   ],
   "source": [
    "model = train_model(training_data)"
   ]
  },
  {
   "cell_type": "code",
   "execution_count": 8,
   "metadata": {
    "scrolled": true
   },
   "outputs": [
    {
     "name": "stdout",
     "output_type": "stream",
     "text": [
      "Average Score: 374.1\n",
      "choice 1:0.49799518845228546  choice 0:0.5020048115477145\n",
      "50\n"
     ]
    }
   ],
   "source": [
    "scores = []\n",
    "choices = []\n",
    "for each_game in range(10):\n",
    "    score = 0\n",
    "    game_memory = []\n",
    "    prev_obs = []\n",
    "    env.reset()\n",
    "    for _ in range(goal_steps):\n",
    "        env.render()\n",
    "\n",
    "        if len(prev_obs)==0:\n",
    "            action = random.randrange(0,2)\n",
    "        else:\n",
    "            action = np.argmax(model.predict(prev_obs.reshape(-1,len(prev_obs),1))[0])\n",
    "\n",
    "        choices.append(action)\n",
    "                \n",
    "        new_observation, reward, done, info = env.step(action)\n",
    "        prev_obs = new_observation\n",
    "        game_memory.append([new_observation, action])\n",
    "        score = score + reward\n",
    "        if done: break\n",
    "\n",
    "    scores.append(score)\n",
    "\n",
    "print('Average Score:',sum(scores)/len(scores))\n",
    "print('choice 1:{}  choice 0:{}'.format(choices.count(1)/len(choices),choices.count(0)/len(choices)))\n",
    "print(score_requirement)"
   ]
  },
  {
   "cell_type": "code",
   "execution_count": null,
   "metadata": {},
   "outputs": [],
   "source": []
  }
 ],
 "metadata": {
  "kernelspec": {
   "display_name": "Python 3",
   "language": "python",
   "name": "python3"
  },
  "language_info": {
   "codemirror_mode": {
    "name": "ipython",
    "version": 3
   },
   "file_extension": ".py",
   "mimetype": "text/x-python",
   "name": "python",
   "nbconvert_exporter": "python",
   "pygments_lexer": "ipython3",
   "version": "3.6.8"
  }
 },
 "nbformat": 4,
 "nbformat_minor": 2
}
