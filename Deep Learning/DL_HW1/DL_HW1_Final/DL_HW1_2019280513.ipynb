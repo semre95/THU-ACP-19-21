{
 "cells": [
  {
   "cell_type": "code",
   "execution_count": 1,
   "metadata": {},
   "outputs": [
    {
     "name": "stdout",
     "output_type": "stream",
     "text": [
      "Extracting ./MNIST_data/train-images-idx3-ubyte.gz\n",
      "Extracting ./MNIST_data/train-labels-idx1-ubyte.gz\n",
      "Extracting ./MNIST_data/t10k-images-idx3-ubyte.gz\n",
      "Extracting ./MNIST_data/t10k-labels-idx1-ubyte.gz\n",
      "Training dataset size:  12049\n",
      "Test dataset size:  1968\n"
     ]
    }
   ],
   "source": [
    "import mnist_data_loader\n",
    "import matplotlib.pyplot as plt\n",
    "import numpy as np\n",
    "\n",
    "mnist_dataset = mnist_data_loader.read_data_sets(\"./MNIST_data/\", one_hot=False)\n",
    "# training dataset\n",
    "train_set = mnist_dataset.train\n",
    "# test dataset\n",
    "test_set = mnist_dataset.test\n",
    "print('Training dataset size: ', train_set.num_examples)\n",
    "print('Test dataset size: ', test_set.num_examples)"
   ]
  },
  {
   "cell_type": "code",
   "execution_count": 2,
   "metadata": {},
   "outputs": [
    {
     "name": "stdout",
     "output_type": "stream",
     "text": [
      "3\n"
     ]
    },
    {
     "data": {
      "image/png": "[encoded data removed]",
      "text/plain": [
       "<Figure size 432x288 with 1 Axes>"
      ]
     },
     "metadata": {
      "needs_background": "light"
     },
     "output_type": "display_data"
    }
   ],
   "source": [
    "example_id = 0\n",
    "image = train_set.images[example_id] # shape = 784 (28*28)\n",
    "label = train_set.labels[example_id] # shape = 1\n",
    "print(label)\n",
    "plt.imshow(np.reshape(image,[28,28]),cmap='gray')\n",
    "plt.show()"
   ]
  },
  {
   "cell_type": "code",
   "execution_count": 3,
   "metadata": {},
   "outputs": [],
   "source": [
    "#logistic regression\n",
    "batch_size = 1000\n",
    "max_epoch = 200\n",
    "learning_rate = 0.01\n",
    "\n",
    "#zero weights\n",
    "weights = np.zeros((train_set.images[0].shape[0], 1)) \n",
    "bias = 0\n",
    "\n",
    "\n",
    "def sigmoid(result):\n",
    "    final_result = 1/(1+np.exp(-result))\n",
    "    return final_result\n",
    "\n",
    "def calc_accuracy(y, y_hat):\n",
    "    correct = y == y_hat\n",
    "    return np.sum(correct) / correct.shape[0]\n",
    "\n",
    "losses = []\n",
    "accuracies = []\n",
    "\n",
    "for epoch in range(0, max_epoch):\n",
    "    iter_per_batch = train_set.num_examples // batch_size\n",
    "    for batch_id in range(0, iter_per_batch):\n",
    "        # get the data of next minibatch (have been shuffled)\n",
    "        batch = train_set.next_batch(batch_size)\n",
    "        input_batch_size, label = batch\n",
    "        \n",
    "        #prediction\n",
    "        y = (label.reshape(label.shape[0], 1) - 3) / 3\n",
    "        Z = np.dot(input_batch_size, weights) + bias\n",
    "        S = sigmoid(Z)\n",
    "        y_hat = S >= 0.5\n",
    "                \n",
    "        #loss and accuracy)\n",
    "        loss = (-1.0) * np.mean(np.multiply(y, np.log(S)) + np.multiply(1.0-y, np.log(1.0 - S)))\n",
    "        accuracy = calc_accuracy(y, y_hat)\n",
    "        \n",
    "        losses.append(loss)\n",
    "        accuracies.append(accuracy)\n",
    "        \n",
    "        # update weights\n",
    "        dw = np.dot(input_batch_size.T, np.transpose(sigmoid(Z) - y).T) * (1.0/input_batch_size.shape[1])\n",
    "        db = np.mean((S - y))\n",
    "        weights = weights - learning_rate * dw\n",
    "        bias = bias - learning_rate * db\n",
    "        \n",
    "\n",
    "        \n",
    "        "
   ]
  },
  {
   "cell_type": "code",
   "execution_count": 4,
   "metadata": {},
   "outputs": [
    {
     "data": {
      "image/png": "[encoded data removed]",
      "text/plain": [
       "<Figure size 720x360 with 1 Axes>"
      ]
     },
     "metadata": {
      "needs_background": "light"
     },
     "output_type": "display_data"
    }
   ],
   "source": [
    "# plot results\n",
    "plt.figure(figsize=(10, 5))\n",
    "plt.title('Accuracy and Loss', fontsize=20)\n",
    "plt.plot(accuracies)\n",
    "plt.plot(losses)\n",
    "plt.legend(['Accuracy', 'Loss'], loc=0)\n",
    "plt.show()"
   ]
  },
  {
   "cell_type": "code",
   "execution_count": 5,
   "metadata": {},
   "outputs": [
    {
     "name": "stdout",
     "output_type": "stream",
     "text": [
      "average accuracy: 0.9879\n",
      "average loss : 0.0697\n"
     ]
    }
   ],
   "source": [
    "#accuracy\n",
    "average_accuracy= (sum(accuracies)/len(accuracies))\n",
    "fd_average_accuracy = \"{:.4f}\".format(average_accuracy)\n",
    "print(\"average accuracy: \"+ fd_average_accuracy)\n",
    "\n",
    "#loss\n",
    "average_loss = float(sum(losses)/len(losses))\n",
    "fd_average_loss = \"{:.4f}\".format(average_loss)\n",
    "print(\"average loss : \"+ fd_average_loss)"
   ]
  }
 ],
 "metadata": {
  "kernelspec": {
   "display_name": "Python 3",
   "language": "python",
   "name": "python3"
  },
  "language_info": {
   "codemirror_mode": {
    "name": "ipython",
    "version": 3
   },
   "file_extension": ".py",
   "mimetype": "text/x-python",
   "name": "python",
   "nbconvert_exporter": "python",
   "pygments_lexer": "ipython3",
   "version": "3.7.4"
  }
 },
 "nbformat": 4,
 "nbformat_minor": 2
}
