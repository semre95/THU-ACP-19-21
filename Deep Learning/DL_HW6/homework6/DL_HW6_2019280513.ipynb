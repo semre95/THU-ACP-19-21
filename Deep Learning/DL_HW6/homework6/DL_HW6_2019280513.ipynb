{
 "cells": [
  {
   "cell_type": "markdown",
   "metadata": {},
   "source": [
    "# Homework6: Clustering with Gaussian Mixture Model"
   ]
  },
  {
   "cell_type": "code",
   "execution_count": 1,
   "metadata": {},
   "outputs": [],
   "source": [
    "#reference to understand how it's implemented and use my own implementation\n",
    "#https://stackoverflow.com/questions/52887562/how-to-implement-gmm-clustering-em-algorighmexpectation-maximisation-algorithm"
   ]
  },
  {
   "cell_type": "code",
   "execution_count": 2,
   "metadata": {},
   "outputs": [],
   "source": [
    "from __future__ import absolute_import\n",
    "from __future__ import division\n",
    "from __future__ import print_function\n",
    "\n",
    "import numpy as np\n",
    "import six\n",
    "from six.moves import range"
   ]
  },
  {
   "cell_type": "code",
   "execution_count": 3,
   "metadata": {},
   "outputs": [],
   "source": [
    "from matplotlib import pyplot as plt\n",
    "%matplotlib inline"
   ]
  },
  {
   "cell_type": "code",
   "execution_count": 4,
   "metadata": {},
   "outputs": [
    {
     "data": {
      "text/plain": [
       "((150, 4), (150,), dtype('O'))"
      ]
     },
     "execution_count": 4,
     "metadata": {},
     "output_type": "execute_result"
    }
   ],
   "source": [
    "X = np.loadtxt('iris.data', dtype='object', delimiter=',')\n",
    "Y = X[:,-1]\n",
    "X = X[:, :-1].astype('f')\n",
    "X.shape, Y.shape, Y.dtype"
   ]
  },
  {
   "cell_type": "markdown",
   "metadata": {},
   "source": [
    "`X` is a `NxK` float matrix where each row (`X[i]`) corresponds to a data point."
   ]
  },
  {
   "cell_type": "code",
   "execution_count": 5,
   "metadata": {},
   "outputs": [],
   "source": [
    "from scipy.stats import multivariate_normal\n",
    "def gmm(X, n_classes, n_iter):\n",
    "\n",
    "    #n -> number, d -> dimension\n",
    "    k = n_classes       \n",
    "    n, d = X.shape\n",
    "    \n",
    "    weights = np.array([1./ k] *  k)\n",
    "    means = np.array(X[np.random.choice(n,  k, False), :])\n",
    "    \n",
    "    #covariance matrix\n",
    "    cov = np.array([np.eye(d)] * k)\n",
    "    r_ic = np.zeros((n, k))\n",
    "    \n",
    "    #P -> Prob formula \n",
    "    P = lambda mu, s: np.linalg.det(s) ** -.5 * (2 * np.pi) ** (-X.shape[1]/2.) \\\n",
    "                * np.exp(-.5 * np.einsum('ij, ij -> i',\\\n",
    "                        X - mu, np.dot(np.linalg.inv(s) , (X - mu).T).T ) ) \n",
    "    \n",
    "    log_likelihoods = []\n",
    "    for itr in range(n_iter):\n",
    "        for c in range(k):# E_Step\n",
    "            r_ic[:, c] = weights[c] * P(means[c], cov[c])\n",
    "            \n",
    "        log_likelihood = np.sum(np.log(np.sum(r_ic, axis=1)))\n",
    "        log_likelihoods.append(log_likelihood)\n",
    "        \n",
    "        # r_ic -> Normalizing, m_ic -> maximizing, weights -> updating...\n",
    "        r_ic = (r_ic.T / np.sum(r_ic, axis = 1)).T            \n",
    "        m_c = np.sum(r_ic, axis=0)\n",
    "        weights = m_c / np.sum(r_ic)\n",
    "\n",
    "        for c in range(k):\n",
    "            # Updating...\n",
    "            # means[c] -> mean, cov[c] -> covariance\n",
    "            means[c] = 1. / m_c[c] * np.sum( r_ic[:,c].reshape(X.shape[0],1) * X , axis=0)\n",
    "            x_mu = X - means[c]\n",
    "            cov[c] = (1. / m_c[c]) * np.dot( (r_ic[:,c].reshape(X.shape[0],1) * x_mu ).T, x_mu)\n",
    "    \n",
    "    # RETURN Highest prob\n",
    "    class_assignments = np.argmax(r_ic, axis=1)\n",
    "    \n",
    "    return class_assignments, means, cov"
   ]
  },
  {
   "cell_type": "markdown",
   "metadata": {},
   "source": [
    "## Visualization: a Cross Section"
   ]
  },
  {
   "cell_type": "code",
   "execution_count": 6,
   "metadata": {},
   "outputs": [
    {
     "data": {
      "image/png": "[encoded data removed]",
      "text/plain": [
       "<Figure size 648x288 with 2 Axes>"
      ]
     },
     "metadata": {
      "needs_background": "light"
     },
     "output_type": "display_data"
    }
   ],
   "source": [
    "class_assignments, mean, cov = gmm(X, 3, 250)  # You may want to tune the number of iterations\n",
    "plt.figure(figsize=(9,4))\n",
    "plt.subplot(121)\n",
    "for k in range(3):\n",
    "    plt.scatter(X[class_assignments==k, 2], X[class_assignments==k, 1], s=2)\n",
    "plt.subplot(122)\n",
    "for k, class_name in enumerate(np.unique(Y)):\n",
    "    plt.scatter(X[Y==class_name, 2], X[Y==class_name, 1], s=2)"
   ]
  },
  {
   "cell_type": "markdown",
   "metadata": {},
   "source": [
    "## Visualization: PCA Projection"
   ]
  },
  {
   "cell_type": "code",
   "execution_count": 7,
   "metadata": {},
   "outputs": [],
   "source": [
    "evals, evecs = np.linalg.eigh(np.cov(X.T))\n",
    "to_crd = lambda x: ((x-x.mean(axis=0))@evecs)[:,-2:]\n",
    "crds = to_crd(X)"
   ]
  },
  {
   "cell_type": "code",
   "execution_count": 8,
   "metadata": {},
   "outputs": [
    {
     "data": {
      "image/png": "[encoded data removed]",
      "text/plain": [
       "<Figure size 648x288 with 2 Axes>"
      ]
     },
     "metadata": {
      "needs_background": "light"
     },
     "output_type": "display_data"
    }
   ],
   "source": [
    "plt.figure(figsize=(9,4))\n",
    "plt.subplot(121)\n",
    "for k in range(3):\n",
    "    plt.scatter(crds[class_assignments==k, 0], crds[class_assignments==k, 1], s=2)\n",
    "plt.scatter(to_crd(mean)[:,0], to_crd(mean)[:,1], s=30, marker='+')\n",
    "plt.subplot(122)\n",
    "for k in np.unique(Y):\n",
    "    plt.scatter(crds[Y==k, 0], crds[Y==k, 1], s=2)"
   ]
  }
 ],
 "metadata": {
  "kernelspec": {
   "display_name": "Python 3",
   "language": "python",
   "name": "python3"
  },
  "language_info": {
   "codemirror_mode": {
    "name": "ipython",
    "version": 3
   },
   "file_extension": ".py",
   "mimetype": "text/x-python",
   "name": "python",
   "nbconvert_exporter": "python",
   "pygments_lexer": "ipython3",
   "version": "3.7.4"
  }
 },
 "nbformat": 4,
 "nbformat_minor": 2
}
