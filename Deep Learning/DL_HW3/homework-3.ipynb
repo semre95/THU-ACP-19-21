{
 "cells": [
  {
   "cell_type": "markdown",
   "metadata": {},
   "source": [
    "## Homework-3: MNIST Classification with ConvNet\n",
    "\n",
    "### **Deadline: 2020.04.07 11:59:00 AM**\n",
    "\n",
    "### In this homework, you need to\n",
    "- #### implement forward and backward for ConvLayer (`layers/conv_layer.py`)\n",
    "- #### implement forward and backward for PoolingLayer (`layers/pooling_layer.py`)\n",
    "- #### implement forward and backward for DropoutLayer (`layers/dropout_layer.py`)"
   ]
  },
  {
   "cell_type": "code",
   "execution_count": 1,
   "metadata": {},
   "outputs": [],
   "source": [
    "import numpy as np\n",
    "import matplotlib.pyplot as plt\n",
    "%matplotlib inline\n",
    "import tensorflow.compat.v1 as tf\n",
    "tf.disable_eager_execution()\n",
    "\n",
    "from network import Network\n",
    "from solver import train, test\n",
    "from plot import plot_loss_and_acc"
   ]
  },
  {
   "cell_type": "markdown",
   "metadata": {},
   "source": [
    "## Load MNIST Dataset\n",
    "We use tensorflow tools to load dataset for convenience."
   ]
  },
  {
   "cell_type": "code",
   "execution_count": 2,
   "metadata": {},
   "outputs": [],
   "source": [
    "(x_train, y_train), (x_test, y_test) = tf.keras.datasets.mnist.load_data()"
   ]
  },
  {
   "cell_type": "code",
   "execution_count": 3,
   "metadata": {},
   "outputs": [],
   "source": [
    "def decode_image(image):\n",
    "    # Normalize from [0, 255.] to [0., 1.0], and then subtract by the mean value\n",
    "    image = tf.cast(image, tf.float32)\n",
    "    image = tf.reshape(image, [1, 28, 28])\n",
    "    image = image / 255.0\n",
    "    image = image - tf.reduce_mean(image)\n",
    "    return image\n",
    "\n",
    "def decode_label(label):\n",
    "    # Encode label with one-hot encoding\n",
    "    return tf.one_hot(label, depth=10)"
   ]
  },
  {
   "cell_type": "code",
   "execution_count": 4,
   "metadata": {},
   "outputs": [],
   "source": [
    "# Data Preprocessing\n",
    "x_train = tf.data.Dataset.from_tensor_slices(x_train).map(decode_image)\n",
    "y_train = tf.data.Dataset.from_tensor_slices(y_train).map(decode_label)\n",
    "data_train = tf.data.Dataset.zip((x_train, y_train))\n",
    "x_test = tf.data.Dataset.from_tensor_slices(x_test).map(decode_image)\n",
    "y_test = tf.data.Dataset.from_tensor_slices(y_test).map(decode_label)\n",
    "data_test = tf.data.Dataset.zip((x_test, y_test))"
   ]
  },
  {
   "cell_type": "markdown",
   "metadata": {},
   "source": [
    "## Set Hyperparameters\n",
    "You can modify hyperparameters by yourself."
   ]
  },
  {
   "cell_type": "code",
   "execution_count": 5,
   "metadata": {},
   "outputs": [],
   "source": [
    "batch_size = 100\n",
    "max_epoch = 10\n",
    "init_std = 0.01\n",
    "\n",
    "learning_rate = 0.001\n",
    "weight_decay = 0.005\n",
    "\n",
    "disp_freq = 50"
   ]
  },
  {
   "cell_type": "markdown",
   "metadata": {},
   "source": [
    "## Criterion and Optimizer"
   ]
  },
  {
   "cell_type": "code",
   "execution_count": 6,
   "metadata": {},
   "outputs": [],
   "source": [
    "from criterion import SoftmaxCrossEntropyLossLayer\n",
    "from optimizer import SGD\n",
    "\n",
    "criterion = SoftmaxCrossEntropyLossLayer()\n",
    "sgd = SGD(learning_rate, weight_decay)"
   ]
  },
  {
   "cell_type": "markdown",
   "metadata": {},
   "source": [
    "## ConvNet"
   ]
  },
  {
   "cell_type": "code",
   "execution_count": 7,
   "metadata": {},
   "outputs": [],
   "source": [
    "from layers import FCLayer, ReLULayer, ConvLayer, MaxPoolingLayer, ReshapeLayer\n",
    "\n",
    "convNet = Network()\n",
    "convNet.add(ConvLayer(1, 8, 3, 1))\n",
    "convNet.add(ReLULayer())\n",
    "convNet.add(MaxPoolingLayer(2, 0))\n",
    "convNet.add(ConvLayer(8, 16, 3, 1))\n",
    "convNet.add(ReLULayer())\n",
    "convNet.add(MaxPoolingLayer(2, 0))\n",
    "convNet.add(ReshapeLayer((batch_size, 16, 7, 7), (batch_size, 784)))\n",
    "convNet.add(FCLayer(784, 128))\n",
    "convNet.add(ReLULayer())\n",
    "convNet.add(FCLayer(128, 10))"
   ]
  },
  {
   "cell_type": "code",
   "execution_count": 8,
   "metadata": {},
   "outputs": [
    {
     "name": "stdout",
     "output_type": "stream",
     "text": [
      "WARNING:tensorflow:From /Users/sami/Desktop/DL_HW3_2019280513/solver.py:15: DatasetV1.make_one_shot_iterator (from tensorflow.python.data.ops.dataset_ops) is deprecated and will be removed in a future version.\n",
      "Instructions for updating:\n",
      "Use `for ... in dataset:` to iterate over a dataset. If using `tf.estimator`, return the `Dataset` object directly from your input function. As a last resort, you can use `tf.compat.v1.data.make_one_shot_iterator(dataset)`.\n",
      "Epoch [0][10]\t Batch [0][550]\t Training Loss 9.1981\t Accuracy 0.0500\n",
      "Epoch [0][10]\t Batch [50][550]\t Training Loss 3.2422\t Accuracy 0.1851\n",
      "Epoch [0][10]\t Batch [100][550]\t Training Loss 2.5845\t Accuracy 0.2930\n",
      "Epoch [0][10]\t Batch [150][550]\t Training Loss 2.2387\t Accuracy 0.3634\n",
      "Epoch [0][10]\t Batch [200][550]\t Training Loss 2.0055\t Accuracy 0.4158\n",
      "Epoch [0][10]\t Batch [250][550]\t Training Loss 1.8325\t Accuracy 0.4578\n",
      "Epoch [0][10]\t Batch [300][550]\t Training Loss 1.6944\t Accuracy 0.4932\n",
      "Epoch [0][10]\t Batch [350][550]\t Training Loss 1.5875\t Accuracy 0.5213\n",
      "Epoch [0][10]\t Batch [400][550]\t Training Loss 1.4957\t Accuracy 0.5465\n",
      "Epoch [0][10]\t Batch [450][550]\t Training Loss 1.4207\t Accuracy 0.5681\n",
      "Epoch [0][10]\t Batch [500][550]\t Training Loss 1.3549\t Accuracy 0.5865\n",
      "\n",
      "Epoch [0]\t Average training loss 1.2951\t Average training accuracy 0.6048\n",
      "Epoch [0]\t Average validation loss 0.5769\t Average validation accuracy 0.8226\n",
      "\n",
      "Epoch [1][10]\t Batch [0][550]\t Training Loss 0.5920\t Accuracy 0.8200\n",
      "Epoch [1][10]\t Batch [50][550]\t Training Loss 0.6235\t Accuracy 0.8053\n",
      "Epoch [1][10]\t Batch [100][550]\t Training Loss 0.6365\t Accuracy 0.8036\n",
      "Epoch [1][10]\t Batch [150][550]\t Training Loss 0.6386\t Accuracy 0.8024\n",
      "Epoch [1][10]\t Batch [200][550]\t Training Loss 0.6260\t Accuracy 0.8059\n",
      "Epoch [1][10]\t Batch [250][550]\t Training Loss 0.6148\t Accuracy 0.8084\n",
      "Epoch [1][10]\t Batch [300][550]\t Training Loss 0.6016\t Accuracy 0.8121\n",
      "Epoch [1][10]\t Batch [350][550]\t Training Loss 0.5939\t Accuracy 0.8142\n",
      "Epoch [1][10]\t Batch [400][550]\t Training Loss 0.5843\t Accuracy 0.8169\n",
      "Epoch [1][10]\t Batch [450][550]\t Training Loss 0.5779\t Accuracy 0.8188\n",
      "Epoch [1][10]\t Batch [500][550]\t Training Loss 0.5717\t Accuracy 0.8207\n",
      "\n",
      "Epoch [1]\t Average training loss 0.5630\t Average training accuracy 0.8235\n",
      "Epoch [1]\t Average validation loss 0.3860\t Average validation accuracy 0.8854\n",
      "\n",
      "Epoch [2][10]\t Batch [0][550]\t Training Loss 0.4455\t Accuracy 0.8700\n",
      "Epoch [2][10]\t Batch [50][550]\t Training Loss 0.4369\t Accuracy 0.8733\n",
      "Epoch [2][10]\t Batch [100][550]\t Training Loss 0.4585\t Accuracy 0.8631\n",
      "Epoch [2][10]\t Batch [150][550]\t Training Loss 0.4658\t Accuracy 0.8603\n",
      "Epoch [2][10]\t Batch [200][550]\t Training Loss 0.4591\t Accuracy 0.8621\n",
      "Epoch [2][10]\t Batch [250][550]\t Training Loss 0.4544\t Accuracy 0.8624\n",
      "Epoch [2][10]\t Batch [300][550]\t Training Loss 0.4479\t Accuracy 0.8645\n",
      "Epoch [2][10]\t Batch [350][550]\t Training Loss 0.4458\t Accuracy 0.8642\n",
      "Epoch [2][10]\t Batch [400][550]\t Training Loss 0.4415\t Accuracy 0.8653\n",
      "Epoch [2][10]\t Batch [450][550]\t Training Loss 0.4396\t Accuracy 0.8657\n",
      "Epoch [2][10]\t Batch [500][550]\t Training Loss 0.4382\t Accuracy 0.8662\n",
      "\n",
      "Epoch [2]\t Average training loss 0.4341\t Average training accuracy 0.8673\n",
      "Epoch [2]\t Average validation loss 0.3135\t Average validation accuracy 0.9068\n",
      "\n",
      "Epoch [3][10]\t Batch [0][550]\t Training Loss 0.3847\t Accuracy 0.9000\n",
      "Epoch [3][10]\t Batch [50][550]\t Training Loss 0.3610\t Accuracy 0.8971\n",
      "Epoch [3][10]\t Batch [100][550]\t Training Loss 0.3836\t Accuracy 0.8851\n",
      "Epoch [3][10]\t Batch [150][550]\t Training Loss 0.3913\t Accuracy 0.8825\n",
      "Epoch [3][10]\t Batch [200][550]\t Training Loss 0.3858\t Accuracy 0.8840\n",
      "Epoch [3][10]\t Batch [250][550]\t Training Loss 0.3827\t Accuracy 0.8843\n",
      "Epoch [3][10]\t Batch [300][550]\t Training Loss 0.3784\t Accuracy 0.8859\n",
      "Epoch [3][10]\t Batch [350][550]\t Training Loss 0.3776\t Accuracy 0.8851\n",
      "Epoch [3][10]\t Batch [400][550]\t Training Loss 0.3748\t Accuracy 0.8860\n",
      "Epoch [3][10]\t Batch [450][550]\t Training Loss 0.3742\t Accuracy 0.8863\n",
      "Epoch [3][10]\t Batch [500][550]\t Training Loss 0.3742\t Accuracy 0.8862\n",
      "\n",
      "Epoch [3]\t Average training loss 0.3717\t Average training accuracy 0.8868\n",
      "Epoch [3]\t Average validation loss 0.2724\t Average validation accuracy 0.9200\n",
      "\n",
      "Epoch [4][10]\t Batch [0][550]\t Training Loss 0.3429\t Accuracy 0.9100\n",
      "Epoch [4][10]\t Batch [50][550]\t Training Loss 0.3175\t Accuracy 0.9096\n",
      "Epoch [4][10]\t Batch [100][550]\t Training Loss 0.3393\t Accuracy 0.8976\n",
      "Epoch [4][10]\t Batch [150][550]\t Training Loss 0.3468\t Accuracy 0.8951\n",
      "Epoch [4][10]\t Batch [200][550]\t Training Loss 0.3418\t Accuracy 0.8966\n",
      "Epoch [4][10]\t Batch [250][550]\t Training Loss 0.3393\t Accuracy 0.8973\n",
      "Epoch [4][10]\t Batch [300][550]\t Training Loss 0.3360\t Accuracy 0.8986\n",
      "Epoch [4][10]\t Batch [350][550]\t Training Loss 0.3356\t Accuracy 0.8979\n",
      "Epoch [4][10]\t Batch [400][550]\t Training Loss 0.3335\t Accuracy 0.8985\n",
      "Epoch [4][10]\t Batch [450][550]\t Training Loss 0.3333\t Accuracy 0.8986\n",
      "Epoch [4][10]\t Batch [500][550]\t Training Loss 0.3341\t Accuracy 0.8982\n",
      "\n",
      "Epoch [4]\t Average training loss 0.3323\t Average training accuracy 0.8988\n",
      "Epoch [4]\t Average validation loss 0.2452\t Average validation accuracy 0.9268\n",
      "\n",
      "Epoch [5][10]\t Batch [0][550]\t Training Loss 0.3174\t Accuracy 0.9200\n",
      "Epoch [5][10]\t Batch [50][550]\t Training Loss 0.2879\t Accuracy 0.9167\n",
      "Epoch [5][10]\t Batch [100][550]\t Training Loss 0.3085\t Accuracy 0.9060\n",
      "Epoch [5][10]\t Batch [150][550]\t Training Loss 0.3156\t Accuracy 0.9036\n",
      "Epoch [5][10]\t Batch [200][550]\t Training Loss 0.3109\t Accuracy 0.9050\n",
      "Epoch [5][10]\t Batch [250][550]\t Training Loss 0.3088\t Accuracy 0.9060\n",
      "Epoch [5][10]\t Batch [300][550]\t Training Loss 0.3061\t Accuracy 0.9070\n",
      "Epoch [5][10]\t Batch [350][550]\t Training Loss 0.3059\t Accuracy 0.9064\n",
      "Epoch [5][10]\t Batch [400][550]\t Training Loss 0.3043\t Accuracy 0.9068\n",
      "Epoch [5][10]\t Batch [450][550]\t Training Loss 0.3043\t Accuracy 0.9071\n",
      "Epoch [5][10]\t Batch [500][550]\t Training Loss 0.3055\t Accuracy 0.9065\n",
      "\n",
      "Epoch [5]\t Average training loss 0.3042\t Average training accuracy 0.9071\n",
      "Epoch [5]\t Average validation loss 0.2251\t Average validation accuracy 0.9338\n",
      "\n",
      "Epoch [6][10]\t Batch [0][550]\t Training Loss 0.2963\t Accuracy 0.9300\n",
      "Epoch [6][10]\t Batch [50][550]\t Training Loss 0.2659\t Accuracy 0.9235\n",
      "Epoch [6][10]\t Batch [100][550]\t Training Loss 0.2854\t Accuracy 0.9140\n",
      "Epoch [6][10]\t Batch [150][550]\t Training Loss 0.2921\t Accuracy 0.9114\n",
      "Epoch [6][10]\t Batch [200][550]\t Training Loss 0.2876\t Accuracy 0.9129\n",
      "Epoch [6][10]\t Batch [250][550]\t Training Loss 0.2857\t Accuracy 0.9137\n",
      "Epoch [6][10]\t Batch [300][550]\t Training Loss 0.2834\t Accuracy 0.9147\n",
      "Epoch [6][10]\t Batch [350][550]\t Training Loss 0.2832\t Accuracy 0.9144\n",
      "Epoch [6][10]\t Batch [400][550]\t Training Loss 0.2819\t Accuracy 0.9145\n",
      "Epoch [6][10]\t Batch [450][550]\t Training Loss 0.2821\t Accuracy 0.9145\n",
      "Epoch [6][10]\t Batch [500][550]\t Training Loss 0.2836\t Accuracy 0.9140\n",
      "\n",
      "Epoch [6]\t Average training loss 0.2825\t Average training accuracy 0.9145\n",
      "Epoch [6]\t Average validation loss 0.2094\t Average validation accuracy 0.9380\n",
      "\n",
      "Epoch [7][10]\t Batch [0][550]\t Training Loss 0.2789\t Accuracy 0.9300\n",
      "Epoch [7][10]\t Batch [50][550]\t Training Loss 0.2485\t Accuracy 0.9290\n",
      "Epoch [7][10]\t Batch [100][550]\t Training Loss 0.2669\t Accuracy 0.9199\n",
      "Epoch [7][10]\t Batch [150][550]\t Training Loss 0.2734\t Accuracy 0.9169\n",
      "Epoch [7][10]\t Batch [200][550]\t Training Loss 0.2690\t Accuracy 0.9182\n",
      "Epoch [7][10]\t Batch [250][550]\t Training Loss 0.2671\t Accuracy 0.9189\n",
      "Epoch [7][10]\t Batch [300][550]\t Training Loss 0.2653\t Accuracy 0.9196\n",
      "Epoch [7][10]\t Batch [350][550]\t Training Loss 0.2650\t Accuracy 0.9193\n",
      "Epoch [7][10]\t Batch [400][550]\t Training Loss 0.2640\t Accuracy 0.9194\n",
      "Epoch [7][10]\t Batch [450][550]\t Training Loss 0.2643\t Accuracy 0.9192\n",
      "Epoch [7][10]\t Batch [500][550]\t Training Loss 0.2660\t Accuracy 0.9185\n",
      "\n",
      "Epoch [7]\t Average training loss 0.2651\t Average training accuracy 0.9190\n",
      "Epoch [7]\t Average validation loss 0.1971\t Average validation accuracy 0.9432\n",
      "\n",
      "Epoch [8][10]\t Batch [0][550]\t Training Loss 0.2651\t Accuracy 0.9300\n",
      "Epoch [8][10]\t Batch [50][550]\t Training Loss 0.2342\t Accuracy 0.9335\n",
      "Epoch [8][10]\t Batch [100][550]\t Training Loss 0.2517\t Accuracy 0.9255\n",
      "Epoch [8][10]\t Batch [150][550]\t Training Loss 0.2579\t Accuracy 0.9220\n"
     ]
    },
    {
     "name": "stdout",
     "output_type": "stream",
     "text": [
      "Epoch [8][10]\t Batch [200][550]\t Training Loss 0.2536\t Accuracy 0.9233\n",
      "Epoch [8][10]\t Batch [250][550]\t Training Loss 0.2518\t Accuracy 0.9242\n",
      "Epoch [8][10]\t Batch [300][550]\t Training Loss 0.2503\t Accuracy 0.9249\n",
      "Epoch [8][10]\t Batch [350][550]\t Training Loss 0.2500\t Accuracy 0.9245\n",
      "Epoch [8][10]\t Batch [400][550]\t Training Loss 0.2491\t Accuracy 0.9244\n",
      "Epoch [8][10]\t Batch [450][550]\t Training Loss 0.2495\t Accuracy 0.9241\n",
      "Epoch [8][10]\t Batch [500][550]\t Training Loss 0.2513\t Accuracy 0.9235\n",
      "\n",
      "Epoch [8]\t Average training loss 0.2506\t Average training accuracy 0.9239\n",
      "Epoch [8]\t Average validation loss 0.1868\t Average validation accuracy 0.9458\n",
      "\n",
      "Epoch [9][10]\t Batch [0][550]\t Training Loss 0.2529\t Accuracy 0.9400\n",
      "Epoch [9][10]\t Batch [50][550]\t Training Loss 0.2221\t Accuracy 0.9369\n",
      "Epoch [9][10]\t Batch [100][550]\t Training Loss 0.2387\t Accuracy 0.9298\n",
      "Epoch [9][10]\t Batch [150][550]\t Training Loss 0.2447\t Accuracy 0.9265\n",
      "Epoch [9][10]\t Batch [200][550]\t Training Loss 0.2405\t Accuracy 0.9279\n",
      "Epoch [9][10]\t Batch [250][550]\t Training Loss 0.2388\t Accuracy 0.9285\n",
      "Epoch [9][10]\t Batch [300][550]\t Training Loss 0.2375\t Accuracy 0.9293\n",
      "Epoch [9][10]\t Batch [350][550]\t Training Loss 0.2372\t Accuracy 0.9290\n",
      "Epoch [9][10]\t Batch [400][550]\t Training Loss 0.2364\t Accuracy 0.9289\n",
      "Epoch [9][10]\t Batch [450][550]\t Training Loss 0.2369\t Accuracy 0.9286\n",
      "Epoch [9][10]\t Batch [500][550]\t Training Loss 0.2388\t Accuracy 0.9279\n",
      "\n",
      "Epoch [9]\t Average training loss 0.2382\t Average training accuracy 0.9281\n",
      "Epoch [9]\t Average validation loss 0.1781\t Average validation accuracy 0.9486\n",
      "\n"
     ]
    }
   ],
   "source": [
    "# Train\n",
    "convNet.is_training = True\n",
    "convNet, conv_loss, conv_acc = train(convNet, criterion, sgd, data_train, max_epoch, batch_size, disp_freq)"
   ]
  },
  {
   "cell_type": "code",
   "execution_count": 9,
   "metadata": {},
   "outputs": [
    {
     "name": "stdout",
     "output_type": "stream",
     "text": [
      "Testing...\n",
      "The test accuracy is 0.9341.\n",
      "\n"
     ]
    }
   ],
   "source": [
    "# Test\n",
    "convNet.is_training = False\n",
    "test(convNet, criterion, data_test, batch_size, disp_freq)"
   ]
  },
  {
   "cell_type": "markdown",
   "metadata": {},
   "source": [
    "## Plot"
   ]
  },
  {
   "cell_type": "code",
   "execution_count": 10,
   "metadata": {},
   "outputs": [
    {
     "data": {
      "image/png": "[encoded data removed]",
      "text/plain": [
       "<Figure size 432x288 with 1 Axes>"
      ]
     },
     "metadata": {
      "needs_background": "light"
     },
     "output_type": "display_data"
    },
    {
     "data": {
      "image/png": "[encoded data removed]",
      "text/plain": [
       "<Figure size 432x288 with 1 Axes>"
      ]
     },
     "metadata": {
      "needs_background": "light"
     },
     "output_type": "display_data"
    }
   ],
   "source": [
    "plot_loss_and_acc({'ConvNet': [conv_loss, conv_acc]})"
   ]
  },
  {
   "cell_type": "markdown",
   "metadata": {},
   "source": [
    "### ~~You have finished homework3, congratulations!~~  \n",
    "\n",
    "**Next, according to the requirements (4):**\n",
    "### **You need to implement the Dropout layer and train the network again.**"
   ]
  },
  {
   "cell_type": "code",
   "execution_count": 11,
   "metadata": {},
   "outputs": [
    {
     "name": "stdout",
     "output_type": "stream",
     "text": [
      "Epoch [0][10]\t Batch [0][550]\t Training Loss 8.2261\t Accuracy 0.1200\n",
      "Epoch [0][10]\t Batch [50][550]\t Training Loss 4.1061\t Accuracy 0.1539\n",
      "Epoch [0][10]\t Batch [100][550]\t Training Loss 3.3294\t Accuracy 0.2112\n",
      "Epoch [0][10]\t Batch [150][550]\t Training Loss 2.9116\t Accuracy 0.2564\n",
      "Epoch [0][10]\t Batch [200][550]\t Training Loss 2.6324\t Accuracy 0.2980\n",
      "Epoch [0][10]\t Batch [250][550]\t Training Loss 2.4206\t Accuracy 0.3349\n",
      "Epoch [0][10]\t Batch [300][550]\t Training Loss 2.2579\t Accuracy 0.3673\n",
      "Epoch [0][10]\t Batch [350][550]\t Training Loss 2.1341\t Accuracy 0.3918\n",
      "Epoch [0][10]\t Batch [400][550]\t Training Loss 2.0278\t Accuracy 0.4149\n",
      "Epoch [0][10]\t Batch [450][550]\t Training Loss 1.9416\t Accuracy 0.4342\n",
      "Epoch [0][10]\t Batch [500][550]\t Training Loss 1.8673\t Accuracy 0.4512\n",
      "\n",
      "Epoch [0]\t Average training loss 1.7993\t Average training accuracy 0.4682\n",
      "Epoch [0]\t Average validation loss 0.9890\t Average validation accuracy 0.6844\n",
      "\n",
      "Epoch [1][10]\t Batch [0][550]\t Training Loss 1.0197\t Accuracy 0.7100\n",
      "Epoch [1][10]\t Batch [50][550]\t Training Loss 1.0491\t Accuracy 0.6645\n",
      "Epoch [1][10]\t Batch [100][550]\t Training Loss 1.0396\t Accuracy 0.6671\n",
      "Epoch [1][10]\t Batch [150][550]\t Training Loss 1.0315\t Accuracy 0.6678\n",
      "Epoch [1][10]\t Batch [200][550]\t Training Loss 1.0241\t Accuracy 0.6704\n",
      "Epoch [1][10]\t Batch [250][550]\t Training Loss 1.0103\t Accuracy 0.6745\n",
      "Epoch [1][10]\t Batch [300][550]\t Training Loss 0.9935\t Accuracy 0.6791\n",
      "Epoch [1][10]\t Batch [350][550]\t Training Loss 0.9805\t Accuracy 0.6834\n",
      "Epoch [1][10]\t Batch [400][550]\t Training Loss 0.9694\t Accuracy 0.6860\n",
      "Epoch [1][10]\t Batch [450][550]\t Training Loss 0.9596\t Accuracy 0.6898\n",
      "Epoch [1][10]\t Batch [500][550]\t Training Loss 0.9479\t Accuracy 0.6930\n",
      "\n",
      "Epoch [1]\t Average training loss 0.9346\t Average training accuracy 0.6976\n",
      "Epoch [1]\t Average validation loss 0.6932\t Average validation accuracy 0.7838\n",
      "\n",
      "Epoch [2][10]\t Batch [0][550]\t Training Loss 0.8011\t Accuracy 0.7800\n",
      "Epoch [2][10]\t Batch [50][550]\t Training Loss 0.7904\t Accuracy 0.7473\n",
      "Epoch [2][10]\t Batch [100][550]\t Training Loss 0.7789\t Accuracy 0.7490\n",
      "Epoch [2][10]\t Batch [150][550]\t Training Loss 0.7796\t Accuracy 0.7496\n",
      "Epoch [2][10]\t Batch [200][550]\t Training Loss 0.7754\t Accuracy 0.7503\n",
      "Epoch [2][10]\t Batch [250][550]\t Training Loss 0.7695\t Accuracy 0.7510\n",
      "Epoch [2][10]\t Batch [300][550]\t Training Loss 0.7623\t Accuracy 0.7537\n",
      "Epoch [2][10]\t Batch [350][550]\t Training Loss 0.7593\t Accuracy 0.7548\n",
      "Epoch [2][10]\t Batch [400][550]\t Training Loss 0.7513\t Accuracy 0.7573\n",
      "Epoch [2][10]\t Batch [450][550]\t Training Loss 0.7479\t Accuracy 0.7585\n",
      "Epoch [2][10]\t Batch [500][550]\t Training Loss 0.7422\t Accuracy 0.7604\n",
      "\n",
      "Epoch [2]\t Average training loss 0.7353\t Average training accuracy 0.7625\n",
      "Epoch [2]\t Average validation loss 0.5496\t Average validation accuracy 0.8230\n",
      "\n",
      "Epoch [3][10]\t Batch [0][550]\t Training Loss 0.5712\t Accuracy 0.8600\n",
      "Epoch [3][10]\t Batch [50][550]\t Training Loss 0.6446\t Accuracy 0.7976\n",
      "Epoch [3][10]\t Batch [100][550]\t Training Loss 0.6518\t Accuracy 0.7943\n",
      "Epoch [3][10]\t Batch [150][550]\t Training Loss 0.6607\t Accuracy 0.7914\n",
      "Epoch [3][10]\t Batch [200][550]\t Training Loss 0.6561\t Accuracy 0.7939\n",
      "Epoch [3][10]\t Batch [250][550]\t Training Loss 0.6494\t Accuracy 0.7939\n",
      "Epoch [3][10]\t Batch [300][550]\t Training Loss 0.6453\t Accuracy 0.7948\n",
      "Epoch [3][10]\t Batch [350][550]\t Training Loss 0.6435\t Accuracy 0.7952\n",
      "Epoch [3][10]\t Batch [400][550]\t Training Loss 0.6388\t Accuracy 0.7961\n",
      "Epoch [3][10]\t Batch [450][550]\t Training Loss 0.6368\t Accuracy 0.7974\n",
      "Epoch [3][10]\t Batch [500][550]\t Training Loss 0.6362\t Accuracy 0.7971\n",
      "\n",
      "Epoch [3]\t Average training loss 0.6313\t Average training accuracy 0.7988\n",
      "Epoch [3]\t Average validation loss 0.4799\t Average validation accuracy 0.8500\n",
      "\n",
      "Epoch [4][10]\t Batch [0][550]\t Training Loss 0.5441\t Accuracy 0.8300\n",
      "Epoch [4][10]\t Batch [50][550]\t Training Loss 0.5670\t Accuracy 0.8200\n",
      "Epoch [4][10]\t Batch [100][550]\t Training Loss 0.5725\t Accuracy 0.8161\n",
      "Epoch [4][10]\t Batch [150][550]\t Training Loss 0.5803\t Accuracy 0.8136\n",
      "Epoch [4][10]\t Batch [200][550]\t Training Loss 0.5808\t Accuracy 0.8133\n",
      "Epoch [4][10]\t Batch [250][550]\t Training Loss 0.5773\t Accuracy 0.8139\n",
      "Epoch [4][10]\t Batch [300][550]\t Training Loss 0.5764\t Accuracy 0.8144\n",
      "Epoch [4][10]\t Batch [350][550]\t Training Loss 0.5757\t Accuracy 0.8153\n",
      "Epoch [4][10]\t Batch [400][550]\t Training Loss 0.5707\t Accuracy 0.8170\n",
      "Epoch [4][10]\t Batch [450][550]\t Training Loss 0.5705\t Accuracy 0.8167\n",
      "Epoch [4][10]\t Batch [500][550]\t Training Loss 0.5686\t Accuracy 0.8171\n",
      "\n",
      "Epoch [4]\t Average training loss 0.5639\t Average training accuracy 0.8193\n",
      "Epoch [4]\t Average validation loss 0.4249\t Average validation accuracy 0.8726\n",
      "\n",
      "Epoch [5][10]\t Batch [0][550]\t Training Loss 0.4985\t Accuracy 0.8900\n",
      "Epoch [5][10]\t Batch [50][550]\t Training Loss 0.5010\t Accuracy 0.8478\n",
      "Epoch [5][10]\t Batch [100][550]\t Training Loss 0.5146\t Accuracy 0.8420\n",
      "Epoch [5][10]\t Batch [150][550]\t Training Loss 0.5202\t Accuracy 0.8393\n",
      "Epoch [5][10]\t Batch [200][550]\t Training Loss 0.5187\t Accuracy 0.8387\n",
      "Epoch [5][10]\t Batch [250][550]\t Training Loss 0.5162\t Accuracy 0.8384\n",
      "Epoch [5][10]\t Batch [300][550]\t Training Loss 0.5151\t Accuracy 0.8379\n",
      "Epoch [5][10]\t Batch [350][550]\t Training Loss 0.5148\t Accuracy 0.8383\n",
      "Epoch [5][10]\t Batch [400][550]\t Training Loss 0.5142\t Accuracy 0.8384\n",
      "Epoch [5][10]\t Batch [450][550]\t Training Loss 0.5154\t Accuracy 0.8376\n",
      "Epoch [5][10]\t Batch [500][550]\t Training Loss 0.5162\t Accuracy 0.8372\n",
      "\n",
      "Epoch [5]\t Average training loss 0.5129\t Average training accuracy 0.8382\n",
      "Epoch [5]\t Average validation loss 0.3922\t Average validation accuracy 0.8834\n",
      "\n",
      "Epoch [6][10]\t Batch [0][550]\t Training Loss 0.4333\t Accuracy 0.8900\n",
      "Epoch [6][10]\t Batch [50][550]\t Training Loss 0.4649\t Accuracy 0.8580\n",
      "Epoch [6][10]\t Batch [100][550]\t Training Loss 0.4742\t Accuracy 0.8557\n",
      "Epoch [6][10]\t Batch [150][550]\t Training Loss 0.4820\t Accuracy 0.8518\n",
      "Epoch [6][10]\t Batch [200][550]\t Training Loss 0.4795\t Accuracy 0.8522\n",
      "Epoch [6][10]\t Batch [250][550]\t Training Loss 0.4775\t Accuracy 0.8519\n",
      "Epoch [6][10]\t Batch [300][550]\t Training Loss 0.4769\t Accuracy 0.8511\n",
      "Epoch [6][10]\t Batch [350][550]\t Training Loss 0.4782\t Accuracy 0.8507\n",
      "Epoch [6][10]\t Batch [400][550]\t Training Loss 0.4785\t Accuracy 0.8509\n",
      "Epoch [6][10]\t Batch [450][550]\t Training Loss 0.4793\t Accuracy 0.8510\n",
      "Epoch [6][10]\t Batch [500][550]\t Training Loss 0.4781\t Accuracy 0.8506\n",
      "\n",
      "Epoch [6]\t Average training loss 0.4755\t Average training accuracy 0.8518\n",
      "Epoch [6]\t Average validation loss 0.3599\t Average validation accuracy 0.8920\n",
      "\n",
      "Epoch [7][10]\t Batch [0][550]\t Training Loss 0.4711\t Accuracy 0.8500\n",
      "Epoch [7][10]\t Batch [50][550]\t Training Loss 0.4485\t Accuracy 0.8635\n",
      "Epoch [7][10]\t Batch [100][550]\t Training Loss 0.4537\t Accuracy 0.8614\n",
      "Epoch [7][10]\t Batch [150][550]\t Training Loss 0.4566\t Accuracy 0.8597\n",
      "Epoch [7][10]\t Batch [200][550]\t Training Loss 0.4484\t Accuracy 0.8619\n",
      "Epoch [7][10]\t Batch [250][550]\t Training Loss 0.4438\t Accuracy 0.8624\n",
      "Epoch [7][10]\t Batch [300][550]\t Training Loss 0.4444\t Accuracy 0.8612\n",
      "Epoch [7][10]\t Batch [350][550]\t Training Loss 0.4461\t Accuracy 0.8602\n",
      "Epoch [7][10]\t Batch [400][550]\t Training Loss 0.4431\t Accuracy 0.8616\n",
      "Epoch [7][10]\t Batch [450][550]\t Training Loss 0.4446\t Accuracy 0.8606\n",
      "Epoch [7][10]\t Batch [500][550]\t Training Loss 0.4461\t Accuracy 0.8595\n",
      "\n",
      "Epoch [7]\t Average training loss 0.4449\t Average training accuracy 0.8606\n",
      "Epoch [7]\t Average validation loss 0.3502\t Average validation accuracy 0.8894\n",
      "\n",
      "Epoch [8][10]\t Batch [0][550]\t Training Loss 0.4408\t Accuracy 0.8700\n",
      "Epoch [8][10]\t Batch [50][550]\t Training Loss 0.4048\t Accuracy 0.8755\n",
      "Epoch [8][10]\t Batch [100][550]\t Training Loss 0.4140\t Accuracy 0.8713\n",
      "Epoch [8][10]\t Batch [150][550]\t Training Loss 0.4233\t Accuracy 0.8672\n",
      "Epoch [8][10]\t Batch [200][550]\t Training Loss 0.4275\t Accuracy 0.8657\n",
      "Epoch [8][10]\t Batch [250][550]\t Training Loss 0.4270\t Accuracy 0.8657\n",
      "Epoch [8][10]\t Batch [300][550]\t Training Loss 0.4252\t Accuracy 0.8659\n",
      "Epoch [8][10]\t Batch [350][550]\t Training Loss 0.4259\t Accuracy 0.8663\n",
      "Epoch [8][10]\t Batch [400][550]\t Training Loss 0.4256\t Accuracy 0.8665\n",
      "Epoch [8][10]\t Batch [450][550]\t Training Loss 0.4255\t Accuracy 0.8667\n",
      "Epoch [8][10]\t Batch [500][550]\t Training Loss 0.4247\t Accuracy 0.8667\n"
     ]
    },
    {
     "name": "stdout",
     "output_type": "stream",
     "text": [
      "\n",
      "Epoch [8]\t Average training loss 0.4217\t Average training accuracy 0.8675\n",
      "Epoch [8]\t Average validation loss 0.3315\t Average validation accuracy 0.8966\n",
      "\n",
      "Epoch [9][10]\t Batch [0][550]\t Training Loss 0.3830\t Accuracy 0.9000\n",
      "Epoch [9][10]\t Batch [50][550]\t Training Loss 0.3874\t Accuracy 0.8778\n",
      "Epoch [9][10]\t Batch [100][550]\t Training Loss 0.3984\t Accuracy 0.8772\n",
      "Epoch [9][10]\t Batch [150][550]\t Training Loss 0.4014\t Accuracy 0.8758\n",
      "Epoch [9][10]\t Batch [200][550]\t Training Loss 0.4014\t Accuracy 0.8761\n",
      "Epoch [9][10]\t Batch [250][550]\t Training Loss 0.3997\t Accuracy 0.8767\n",
      "Epoch [9][10]\t Batch [300][550]\t Training Loss 0.4003\t Accuracy 0.8764\n",
      "Epoch [9][10]\t Batch [350][550]\t Training Loss 0.4022\t Accuracy 0.8755\n",
      "Epoch [9][10]\t Batch [400][550]\t Training Loss 0.4024\t Accuracy 0.8756\n",
      "Epoch [9][10]\t Batch [450][550]\t Training Loss 0.4022\t Accuracy 0.8753\n",
      "Epoch [9][10]\t Batch [500][550]\t Training Loss 0.4039\t Accuracy 0.8747\n",
      "\n",
      "Epoch [9]\t Average training loss 0.4022\t Average training accuracy 0.8754\n",
      "Epoch [9]\t Average validation loss 0.3046\t Average validation accuracy 0.9056\n",
      "\n",
      "Testing...\n",
      "The test accuracy is 0.8885.\n",
      "\n"
     ]
    },
    {
     "data": {
      "image/png": "[encoded data removed]",
      "text/plain": [
       "<Figure size 432x288 with 1 Axes>"
      ]
     },
     "metadata": {
      "needs_background": "light"
     },
     "output_type": "display_data"
    },
    {
     "data": {
      "image/png": "[encoded data removed]",
      "text/plain": [
       "<Figure size 432x288 with 1 Axes>"
      ]
     },
     "metadata": {
      "needs_background": "light"
     },
     "output_type": "display_data"
    }
   ],
   "source": [
    "from layers import DropoutLayer\n",
    "\n",
    "# set hyperparameters\n",
    "batch_size = 100\n",
    "max_epoch = 10\n",
    "init_std = 0.01\n",
    "\n",
    "learning_rate = 0.001\n",
    "weight_decay = 0.005\n",
    "\n",
    "disp_freq = 50\n",
    "\n",
    "# build your network\n",
    "convNet = Network()\n",
    "convNet.add(ConvLayer(1, 8, 3, 1))\n",
    "convNet.add(ReLULayer())\n",
    "convNet.add(MaxPoolingLayer(2, 0))\n",
    "convNet.add(ConvLayer(8, 16, 3, 1))\n",
    "convNet.add(DropoutLayer(0.2))\n",
    "convNet.add(ReLULayer())\n",
    "convNet.add(MaxPoolingLayer(2, 0))\n",
    "convNet.add(ReshapeLayer((batch_size, 16, 7, 7), (batch_size, 784)))\n",
    "convNet.add(FCLayer(784, 128))\n",
    "convNet.add(DropoutLayer(0.2))\n",
    "convNet.add(ReLULayer())\n",
    "convNet.add(FCLayer(128, 10))\n",
    "\n",
    "# training\n",
    "convNet.is_training = True\n",
    "convNet, conv_loss, conv_acc = train(convNet, criterion, sgd, data_train, max_epoch, batch_size, disp_freq)\n",
    "\n",
    "# testing\n",
    "convNet.is_training = False\n",
    "test(convNet, criterion, data_test, batch_size, disp_freq)\n",
    "\n",
    "# plot\n",
    "plot_loss_and_acc({'My Dropout Layer ConvNet': [conv_loss, conv_acc]})"
   ]
  },
  {
   "cell_type": "code",
   "execution_count": null,
   "metadata": {},
   "outputs": [],
   "source": []
  }
 ],
 "metadata": {
  "kernelspec": {
   "display_name": "Python 3",
   "language": "python",
   "name": "python3"
  },
  "language_info": {
   "codemirror_mode": {
    "name": "ipython",
    "version": 3
   },
   "file_extension": ".py",
   "mimetype": "text/x-python",
   "name": "python",
   "nbconvert_exporter": "python",
   "pygments_lexer": "ipython3",
   "version": "3.7.4"
  }
 },
 "nbformat": 4,
 "nbformat_minor": 2
}
