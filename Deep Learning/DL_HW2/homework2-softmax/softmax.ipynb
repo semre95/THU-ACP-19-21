{
 "cells": [
  {
   "cell_type": "markdown",
   "metadata": {
    "colab_type": "text",
    "id": "lMm98tEy-XbJ"
   },
   "source": [
    "# Homework-2: Softmax for MNIST Classification\n",
    "\n",
    "### In this homework, you need to\n",
    "- ### implement and apply a softmax classifier to perform digits classification."
   ]
  },
  {
   "cell_type": "code",
   "execution_count": 1,
   "metadata": {
    "colab": {},
    "colab_type": "code",
    "id": "CRr-_JGm-XbU"
   },
   "outputs": [],
   "source": [
    "import os,sys\n",
    "import numpy as np\n",
    "import matplotlib.pyplot as plt\n",
    "%matplotlib inline"
   ]
  },
  {
   "cell_type": "markdown",
   "metadata": {
    "colab_type": "text",
    "id": "8hPvQ5kG-Xbk"
   },
   "source": [
    "## Load MNIST Dataset\n",
    "The **mnist_data_loader.py** is a script to load mnist dataset, which is included in [TensorFlow tutorial](https://github.com/tensorflow/tensorflow/blob/r0.7/tensorflow/examples/tutorials/mnist/input_data.py)."
   ]
  },
  {
   "cell_type": "code",
   "execution_count": 2,
   "metadata": {
    "colab": {
     "base_uri": "https://localhost:8080/",
     "height": 247
    },
    "colab_type": "code",
    "id": "GGbIfkP3-Xbo",
    "outputId": "b96bcb52-3087-4426-88e8-167c885d7da5"
   },
   "outputs": [
    {
     "name": "stdout",
     "output_type": "stream",
     "text": [
      "Extracting ./MNIST_data/train-images-idx3-ubyte.gz\n",
      "Extracting ./MNIST_data/train-labels-idx1-ubyte.gz\n",
      "Extracting ./MNIST_data/t10k-images-idx3-ubyte.gz\n",
      "Extracting ./MNIST_data/t10k-labels-idx1-ubyte.gz\n",
      "\n",
      "Training dataset size:  60000\n",
      "Test dataset size:  10000\n"
     ]
    }
   ],
   "source": [
    "import mnist_data_loader\n",
    "\n",
    "mnist_dataset = mnist_data_loader.read_data_sets(\"./MNIST_data/\", one_hot=True)\n",
    "\n",
    "# training dataset\n",
    "train_set = mnist_dataset.train \n",
    "# test dataset\n",
    "test_set = mnist_dataset.test   \n",
    "\n",
    "train_size = train_set.num_examples\n",
    "test_size = test_set.num_examples\n",
    "print()\n",
    "print('Training dataset size: ', train_size)\n",
    "print('Test dataset size: ', test_size)"
   ]
  },
  {
   "cell_type": "markdown",
   "metadata": {
    "colab_type": "text",
    "id": "XOztHLXM-Xb0"
   },
   "source": [
    "## Data Example\n",
    "To have a better understand of MNIST dataset, we can visualize some examples in MNIST."
   ]
  },
  {
   "cell_type": "code",
   "execution_count": 3,
   "metadata": {
    "colab": {
     "base_uri": "https://localhost:8080/",
     "height": 298
    },
    "colab_type": "code",
    "id": "NO4vRWdI-Xb4",
    "outputId": "fec07275-7004-47ea-ee9d-bc2ca4cc6be2"
   },
   "outputs": [
    {
     "name": "stdout",
     "output_type": "stream",
     "text": [
      "[0. 0. 0. 0. 0. 1. 0. 0. 0. 0.]\n"
     ]
    },
    {
     "data": {
      "text/plain": [
       "<matplotlib.image.AxesImage at 0x64994df90>"
      ]
     },
     "execution_count": 3,
     "metadata": {},
     "output_type": "execute_result"
    },
    {
     "data": {
      "image/png": "[encoded data removed]",
      "text/plain": [
       "<Figure size 432x288 with 1 Axes>"
      ]
     },
     "metadata": {
      "needs_background": "light"
     },
     "output_type": "display_data"
    }
   ],
   "source": [
    "# You can choose any image in training set to visualize, example_id ∈ [0,60000)\n",
    "example_id = 0 \n",
    "\n",
    "image = train_set.images[example_id] # shape = 784 (28*28)\n",
    "label = train_set.labels[example_id] # shape = 10\n",
    "#print(image)\n",
    "print(label)\n",
    "plt.imshow(np.reshape(image,[28,28]))"
   ]
  },
  {
   "cell_type": "markdown",
   "metadata": {
    "colab_type": "text",
    "id": "bZsSQxZs-XcG"
   },
   "source": [
    "## Set Hyerparameters\n",
    "You can modify hyerparameters by yourself."
   ]
  },
  {
   "cell_type": "code",
   "execution_count": 4,
   "metadata": {
    "colab": {},
    "colab_type": "code",
    "id": "R6tY7To7-XcK"
   },
   "outputs": [],
   "source": [
    "batch_size = 100\n",
    "max_epoch = 10\n",
    "learning_rate = 0.01\n",
    "\n",
    "# For regularization\n",
    "lamda = 0.5"
   ]
  },
  {
   "cell_type": "markdown",
   "metadata": {
    "colab_type": "text",
    "id": "OOqXv9HZ-XcS"
   },
   "source": [
    "### TODO\n",
    "Before executing the following code, you should accomplish **./softmax_classifier.py**."
   ]
  },
  {
   "cell_type": "code",
   "execution_count": 5,
   "metadata": {
    "colab": {},
    "colab_type": "code",
    "id": "Veq4wH5Z-XcV"
   },
   "outputs": [],
   "source": [
    "from softmax_classifier import softmax_classifier"
   ]
  },
  {
   "cell_type": "markdown",
   "metadata": {
    "colab_type": "text",
    "id": "Q42mBOyt-Xcc"
   },
   "source": [
    "## Train"
   ]
  },
  {
   "cell_type": "code",
   "execution_count": 6,
   "metadata": {
    "colab": {
     "base_uri": "https://localhost:8080/",
     "height": 1000
    },
    "colab_type": "code",
    "id": "IpFT2RE7-Xcd",
    "outputId": "79c68310-8fa5-4398-805b-eeb334b4a89c",
    "scrolled": true
   },
   "outputs": [
    {
     "name": "stdout",
     "output_type": "stream",
     "text": [
      "Epoch [0][10]\t Batch [0][600]\t Training Loss 2.3045\t Accuracy 0.1200\n",
      "Epoch [0][10]\t Batch [100][600]\t Training Loss 1.7691\t Accuracy 0.7100\n",
      "Epoch [0][10]\t Batch [200][600]\t Training Loss 1.8197\t Accuracy 0.6900\n",
      "Epoch [0][10]\t Batch [300][600]\t Training Loss 1.7958\t Accuracy 0.7600\n",
      "Epoch [0][10]\t Batch [400][600]\t Training Loss 1.6550\t Accuracy 0.8100\n",
      "Epoch [0][10]\t Batch [500][600]\t Training Loss 1.7394\t Accuracy 0.8000\n",
      "\n",
      "Epoch [1][10]\t Batch [0][600]\t Training Loss 1.6718\t Accuracy 0.8400\n",
      "Epoch [1][10]\t Batch [100][600]\t Training Loss 1.6409\t Accuracy 0.8200\n",
      "Epoch [1][10]\t Batch [200][600]\t Training Loss 1.6915\t Accuracy 0.8200\n",
      "Epoch [1][10]\t Batch [300][600]\t Training Loss 1.6672\t Accuracy 0.7800\n",
      "Epoch [1][10]\t Batch [400][600]\t Training Loss 1.6698\t Accuracy 0.7800\n",
      "Epoch [1][10]\t Batch [500][600]\t Training Loss 1.6782\t Accuracy 0.8400\n",
      "\n",
      "Epoch [2][10]\t Batch [0][600]\t Training Loss 1.6960\t Accuracy 0.8000\n",
      "Epoch [2][10]\t Batch [100][600]\t Training Loss 1.6777\t Accuracy 0.8100\n",
      "Epoch [2][10]\t Batch [200][600]\t Training Loss 1.7629\t Accuracy 0.7400\n",
      "Epoch [2][10]\t Batch [300][600]\t Training Loss 1.7169\t Accuracy 0.7800\n",
      "Epoch [2][10]\t Batch [400][600]\t Training Loss 1.6243\t Accuracy 0.8800\n",
      "Epoch [2][10]\t Batch [500][600]\t Training Loss 1.7365\t Accuracy 0.7900\n",
      "\n",
      "Epoch [3][10]\t Batch [0][600]\t Training Loss 1.6687\t Accuracy 0.8200\n",
      "Epoch [3][10]\t Batch [100][600]\t Training Loss 1.7661\t Accuracy 0.8000\n",
      "Epoch [3][10]\t Batch [200][600]\t Training Loss 1.5948\t Accuracy 0.8400\n",
      "Epoch [3][10]\t Batch [300][600]\t Training Loss 1.7186\t Accuracy 0.7600\n",
      "Epoch [3][10]\t Batch [400][600]\t Training Loss 1.7566\t Accuracy 0.7900\n",
      "Epoch [3][10]\t Batch [500][600]\t Training Loss 1.6595\t Accuracy 0.8900\n",
      "\n",
      "Epoch [4][10]\t Batch [0][600]\t Training Loss 1.6650\t Accuracy 0.7900\n",
      "Epoch [4][10]\t Batch [100][600]\t Training Loss 1.7413\t Accuracy 0.7800\n",
      "Epoch [4][10]\t Batch [200][600]\t Training Loss 1.7459\t Accuracy 0.7900\n",
      "Epoch [4][10]\t Batch [300][600]\t Training Loss 1.7134\t Accuracy 0.7900\n",
      "Epoch [4][10]\t Batch [400][600]\t Training Loss 1.7336\t Accuracy 0.7900\n",
      "Epoch [4][10]\t Batch [500][600]\t Training Loss 1.6794\t Accuracy 0.8200\n",
      "\n",
      "Epoch [5][10]\t Batch [0][600]\t Training Loss 1.6842\t Accuracy 0.8000\n",
      "Epoch [5][10]\t Batch [100][600]\t Training Loss 1.6581\t Accuracy 0.8400\n",
      "Epoch [5][10]\t Batch [200][600]\t Training Loss 1.6756\t Accuracy 0.8200\n",
      "Epoch [5][10]\t Batch [300][600]\t Training Loss 1.7095\t Accuracy 0.7800\n",
      "Epoch [5][10]\t Batch [400][600]\t Training Loss 1.7627\t Accuracy 0.7700\n",
      "Epoch [5][10]\t Batch [500][600]\t Training Loss 1.6842\t Accuracy 0.8400\n",
      "\n",
      "Epoch [6][10]\t Batch [0][600]\t Training Loss 1.6599\t Accuracy 0.8600\n",
      "Epoch [6][10]\t Batch [100][600]\t Training Loss 1.7043\t Accuracy 0.7900\n",
      "Epoch [6][10]\t Batch [200][600]\t Training Loss 1.6520\t Accuracy 0.8500\n",
      "Epoch [6][10]\t Batch [300][600]\t Training Loss 1.7232\t Accuracy 0.7700\n",
      "Epoch [6][10]\t Batch [400][600]\t Training Loss 1.7345\t Accuracy 0.7900\n",
      "Epoch [6][10]\t Batch [500][600]\t Training Loss 1.6517\t Accuracy 0.8500\n",
      "\n",
      "Epoch [7][10]\t Batch [0][600]\t Training Loss 1.7397\t Accuracy 0.8000\n",
      "Epoch [7][10]\t Batch [100][600]\t Training Loss 1.7296\t Accuracy 0.7900\n",
      "Epoch [7][10]\t Batch [200][600]\t Training Loss 1.7059\t Accuracy 0.8300\n",
      "Epoch [7][10]\t Batch [300][600]\t Training Loss 1.7621\t Accuracy 0.7200\n",
      "Epoch [7][10]\t Batch [400][600]\t Training Loss 1.7621\t Accuracy 0.7900\n",
      "Epoch [7][10]\t Batch [500][600]\t Training Loss 1.6593\t Accuracy 0.8300\n",
      "\n",
      "Epoch [8][10]\t Batch [0][600]\t Training Loss 1.7472\t Accuracy 0.7900\n",
      "Epoch [8][10]\t Batch [100][600]\t Training Loss 1.7272\t Accuracy 0.7700\n",
      "Epoch [8][10]\t Batch [200][600]\t Training Loss 1.7418\t Accuracy 0.7700\n",
      "Epoch [8][10]\t Batch [300][600]\t Training Loss 1.7759\t Accuracy 0.8000\n",
      "Epoch [8][10]\t Batch [400][600]\t Training Loss 1.6441\t Accuracy 0.8300\n",
      "Epoch [8][10]\t Batch [500][600]\t Training Loss 1.6217\t Accuracy 0.8800\n",
      "\n",
      "Epoch [9][10]\t Batch [0][600]\t Training Loss 1.6400\t Accuracy 0.9200\n",
      "Epoch [9][10]\t Batch [100][600]\t Training Loss 1.6175\t Accuracy 0.7900\n",
      "Epoch [9][10]\t Batch [200][600]\t Training Loss 1.6477\t Accuracy 0.8600\n",
      "Epoch [9][10]\t Batch [300][600]\t Training Loss 1.6287\t Accuracy 0.8200\n",
      "Epoch [9][10]\t Batch [400][600]\t Training Loss 1.6912\t Accuracy 0.8000\n",
      "Epoch [9][10]\t Batch [500][600]\t Training Loss 1.6639\t Accuracy 0.8200\n",
      "\n"
     ]
    }
   ],
   "source": [
    "# Weight Initialization\n",
    "W = np.random.randn(28*28, 10) * 0.001\n",
    "\n",
    "loss_set = []\n",
    "accu_set = []\n",
    "disp_freq = 100\n",
    "\n",
    "# Training process\n",
    "for epoch in range(0, max_epoch):\n",
    "    iter_per_batch = train_size // batch_size\n",
    "    for batch_id in range(0, iter_per_batch):\n",
    "        batch = train_set.next_batch(batch_size) # get data of next batch\n",
    "        input, label = batch\n",
    "        \n",
    "        # softmax_classifier\n",
    "        loss, gradient, prediction = softmax_classifier(W, input , label, lamda)\n",
    "        \n",
    "        # Calculate accuracy\n",
    "        label = np.argmax(label, axis=1) # scalar representation\n",
    "        accuracy = sum(prediction == label) / float(len(label))\n",
    "        \n",
    "        loss_set.append(loss)\n",
    "        accu_set.append(accuracy)\n",
    "        \n",
    "        # Update weights\n",
    "        W = W - (learning_rate * gradient)\n",
    "        if batch_id % disp_freq == 0:\n",
    "            print(\"Epoch [{}][{}]\\t Batch [{}][{}]\\t Training Loss {:.4f}\\t Accuracy {:.4f}\".format(\n",
    "                epoch, max_epoch, batch_id, iter_per_batch, \n",
    "                loss, accuracy))\n",
    "    print()"
   ]
  },
  {
   "cell_type": "markdown",
   "metadata": {
    "colab_type": "text",
    "id": "xS3rCnsY-Xck"
   },
   "source": [
    "## Test"
   ]
  },
  {
   "cell_type": "code",
   "execution_count": 7,
   "metadata": {
    "colab": {
     "base_uri": "https://localhost:8080/",
     "height": 34
    },
    "colab_type": "code",
    "id": "9RqMp5dW-Xcm",
    "outputId": "a52df73e-ccba-48e5-b72e-766b0e2b8f71",
    "scrolled": true
   },
   "outputs": [
    {
     "name": "stdout",
     "output_type": "stream",
     "text": [
      "Test Accuracy:  0.8237\n"
     ]
    }
   ],
   "source": [
    "correct = 0\n",
    "iter_per_batch = test_size // batch_size\n",
    "\n",
    "# Test process\n",
    "for batch_id in range(0, iter_per_batch):\n",
    "    batch = test_set.next_batch(batch_size)\n",
    "    data, label = batch\n",
    "    \n",
    "    # We only need prediction results in testing\n",
    "    _,_, prediction = softmax_classifier(W, data , label, lamda)\n",
    "    label = np.argmax(label, axis=1)\n",
    "    \n",
    "    correct += sum(prediction == label)\n",
    "    \n",
    "accuracy = correct * 1.0 / test_size\n",
    "print('Test Accuracy: ', accuracy)"
   ]
  },
  {
   "cell_type": "markdown",
   "metadata": {
    "colab_type": "text",
    "id": "oxMi9FxC-Xcs"
   },
   "source": [
    "## Plot"
   ]
  },
  {
   "cell_type": "code",
   "execution_count": 8,
   "metadata": {
    "colab": {
     "base_uri": "https://localhost:8080/",
     "height": 545
    },
    "colab_type": "code",
    "id": "LnWJM5lt-Xcv",
    "outputId": "6cd038d8-d6ca-4007-83c3-92d221ba30c8",
    "scrolled": false
   },
   "outputs": [
    {
     "data": {
      "image/png": "[encoded data removed]",
      "text/plain": [
       "<Figure size 432x288 with 1 Axes>"
      ]
     },
     "metadata": {
      "needs_background": "light"
     },
     "output_type": "display_data"
    },
    {
     "data": {
      "image/png": "[encoded data removed]",
      "text/plain": [
       "<Figure size 432x288 with 1 Axes>"
      ]
     },
     "metadata": {
      "needs_background": "light"
     },
     "output_type": "display_data"
    }
   ],
   "source": [
    "# training loss curve\n",
    "plt.figure()\n",
    "plt.plot(loss_set, 'b--')\n",
    "plt.xlabel('iteration')\n",
    "plt.ylabel('loss')\n",
    "# training accuracy curve\n",
    "plt.figure()\n",
    "plt.plot(accu_set, 'r--')\n",
    "plt.xlabel('iteration')\n",
    "plt.ylabel('accuracy');"
   ]
  },
  {
   "cell_type": "markdown",
   "metadata": {
    "colab_type": "text",
    "id": "Fuc3bDJ9-Xc2"
   },
   "source": [
    "### You have finished homework2-softmax, congratulations!"
   ]
  }
 ],
 "metadata": {
  "colab": {
   "collapsed_sections": [],
   "name": "homework2-softmax.ipynb",
   "provenance": []
  },
  "kernelspec": {
   "display_name": "Python 3",
   "language": "python",
   "name": "python3"
  },
  "language_info": {
   "codemirror_mode": {
    "name": "ipython",
    "version": 3
   },
   "file_extension": ".py",
   "mimetype": "text/x-python",
   "name": "python",
   "nbconvert_exporter": "python",
   "pygments_lexer": "ipython3",
   "version": "3.7.4"
  }
 },
 "nbformat": 4,
 "nbformat_minor": 1
}
